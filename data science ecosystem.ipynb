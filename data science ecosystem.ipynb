{
 "cells": [
  {
   "cell_type": "markdown",
   "id": "2f295a2b-c27e-4ea7-a819-0dc095d799c1",
   "metadata": {},
   "source": [
    "Data science tools and ecosystem"
   ]
  },
  {
   "cell_type": "markdown",
   "id": "b59206eb-0613-44d0-83d6-eb8f442bf801",
   "metadata": {},
   "source": [
    "Markdown cell for introduction\n",
    "in this notebook data science tools and ecosystem are summerized"
   ]
  },
  {
   "cell_type": "markdown",
   "id": "03c70e1a-687c-478f-bee0-8638dacc09d9",
   "metadata": {},
   "source": [
    "some of the popular languages that data scienctists use are:\n",
    "1- python\n",
    "2- R\n",
    "3- SQL\n",
    "4- JAVA\n"
   ]
  },
  {
   "cell_type": "markdown",
   "id": "3cedf546-7f0b-420b-86cd-68df0f956970",
   "metadata": {},
   "source": [
    "Some commonly used libraries by data scientist are:\n",
    "1- numpy\n",
    "2- keras\n",
    "3- pandas\n",
    "4- pytorch"
   ]
  },
  {
   "cell_type": "markdown",
   "id": "4b9131f6-151b-432a-9974-200650397af0",
   "metadata": {},
   "source": [
    "| Data Science Tools  |\n",
    "|---------------------|\n",
    "| 1. Python          |\n",
    "| 2. R               |\n",
    "| 3. Jupyter Notebook|\n"
   ]
  },
  {
   "cell_type": "markdown",
   "id": "b7477cdd-aba3-4044-a7e5-de07de770d54",
   "metadata": {},
   "source": [
    "Arithmetic Expression Examples\n",
    "\n",
    "Below are a few examples of evaluating arithmetic expressions in Python.\n",
    "\n",
    "\n",
    "\n",
    "\n"
   ]
  },
  {
   "cell_type": "code",
   "execution_count": 10,
   "id": "6f9aa34a-cb9d-4fa9-9430-359f49e41d51",
   "metadata": {},
   "outputs": [
    {
     "name": "stdout",
     "output_type": "stream",
     "text": [
      "8\n"
     ]
    }
   ],
   "source": [
    "x = 5\n",
    "y = 3\n",
    "result = x + y\n",
    "print(result) \n"
   ]
  },
  {
   "cell_type": "code",
   "execution_count": 7,
   "id": "606c11d5-25f1-49d2-ab25-52a0ef9b58ee",
   "metadata": {},
   "outputs": [
    {
     "name": "stdout",
     "output_type": "stream",
     "text": [
      "6\n"
     ]
    }
   ],
   "source": [
    "x = 10\n",
    "y = 4\n",
    "result = x - y\n",
    "print(result) \n"
   ]
  },
  {
   "cell_type": "code",
   "execution_count": 8,
   "id": "d5538685-c15c-4cdc-8a66-333886b7f16a",
   "metadata": {},
   "outputs": [
    {
     "name": "stdout",
     "output_type": "stream",
     "text": [
      "14\n"
     ]
    }
   ],
   "source": [
    "x = 7\n",
    "y = 2\n",
    "result = x * y\n",
    "print(result)  \n"
   ]
  },
  {
   "cell_type": "code",
   "execution_count": 9,
   "id": "b44b9e2a-ec97-4a60-b5d5-26216ce234e2",
   "metadata": {},
   "outputs": [
    {
     "name": "stdout",
     "output_type": "stream",
     "text": [
      "4.0\n"
     ]
    }
   ],
   "source": [
    "x = 16\n",
    "y = 4\n",
    "result = x / y\n",
    "print(result)  \n"
   ]
  },
  {
   "cell_type": "code",
   "execution_count": 11,
   "id": "111428c9-c611-416b-b07c-e1024b332b4d",
   "metadata": {},
   "outputs": [
    {
     "name": "stdout",
     "output_type": "stream",
     "text": [
      "17\n"
     ]
    }
   ],
   "source": [
    "result = (3 * 4) + 5\n",
    "print(result)\n"
   ]
  },
  {
   "cell_type": "code",
   "execution_count": 13,
   "id": "9d013826-53c3-4cf1-bd60-6f11f05e8262",
   "metadata": {},
   "outputs": [
    {
     "name": "stdout",
     "output_type": "stream",
     "text": [
      "5.0\n"
     ]
    }
   ],
   "source": [
    "# Input: Minutes\n",
    "minutes = 300\n",
    "\n",
    "# Convert to hours\n",
    "hours = minutes / 60\n",
    "\n",
    "# Output: Hours\n",
    "print(hours)\n"
   ]
  },
  {
   "cell_type": "markdown",
   "id": "7d0c581f-9ecb-4cdb-9414-eedd44a55716",
   "metadata": {},
   "source": [
    "**Objectives:**\n",
    "\n",
    "- List popular languages for Data Science.\n",
    "- Explore common mathematical operations and expressions.\n",
    "- Understand how to convert units, such as minutes to hours.\n",
    "- Introduce Markdown formatting in Jupyter Notebook.\n",
    "- Learn to create and structure content using Markdown cells.\n"
   ]
  },
  {
   "cell_type": "markdown",
   "id": "91f5ef16-1d6c-41fa-9cd0-65b667412c90",
   "metadata": {},
   "source": [
    " ## Author\n",
    "\n",
    "Aman kumar\n"
   ]
  },
  {
   "cell_type": "code",
   "execution_count": null,
   "id": "5cb30836-8b1a-4a8f-a823-3fd74b31568c",
   "metadata": {},
   "outputs": [],
   "source": []
  },
  {
   "cell_type": "code",
   "execution_count": null,
   "id": "2edef2b3-4259-4b69-a4c9-32343bd2181d",
   "metadata": {},
   "outputs": [],
   "source": []
  },
  {
   "cell_type": "code",
   "execution_count": null,
   "id": "d0a28eef-f74e-4a35-89d2-cfcb9c10638e",
   "metadata": {},
   "outputs": [],
   "source": []
  },
  {
   "cell_type": "code",
   "execution_count": null,
   "id": "459c674a-8519-48da-8b64-aa2c7c48c629",
   "metadata": {},
   "outputs": [],
   "source": []
  },
  {
   "cell_type": "code",
   "execution_count": null,
   "id": "88209e7f-4574-4dfd-adbd-e2f8c17191b6",
   "metadata": {},
   "outputs": [],
   "source": []
  },
  {
   "cell_type": "code",
   "execution_count": null,
   "id": "67991034-277a-47ab-9f4f-62c10d35404b",
   "metadata": {},
   "outputs": [],
   "source": []
  },
  {
   "cell_type": "code",
   "execution_count": null,
   "id": "f0e2048f-1af1-442c-89bf-d2be0bf9cbc2",
   "metadata": {},
   "outputs": [],
   "source": []
  },
  {
   "cell_type": "code",
   "execution_count": null,
   "id": "c86d2e96-1f44-4b19-9981-04db9a470fc6",
   "metadata": {},
   "outputs": [],
   "source": []
  },
  {
   "cell_type": "code",
   "execution_count": null,
   "id": "2fe932e7-0d59-4456-a2d4-afb95a79944c",
   "metadata": {},
   "outputs": [],
   "source": []
  },
  {
   "cell_type": "code",
   "execution_count": null,
   "id": "80d3fe30-ed4e-4362-bd2b-70e25c290111",
   "metadata": {},
   "outputs": [],
   "source": []
  },
  {
   "cell_type": "code",
   "execution_count": null,
   "id": "5c50884d-7a29-49f8-9c3e-8161a16f44ff",
   "metadata": {},
   "outputs": [],
   "source": []
  },
  {
   "cell_type": "code",
   "execution_count": null,
   "id": "0385bc51-1d9b-4c84-a04d-e7491aa3782a",
   "metadata": {},
   "outputs": [],
   "source": []
  },
  {
   "cell_type": "code",
   "execution_count": null,
   "id": "b8977618-e595-4529-b151-d5e4b7421807",
   "metadata": {},
   "outputs": [],
   "source": []
  },
  {
   "cell_type": "code",
   "execution_count": null,
   "id": "59d24104-2ded-45ce-ba7a-d06ce8c586e5",
   "metadata": {},
   "outputs": [],
   "source": []
  }
 ],
 "metadata": {
  "kernelspec": {
   "display_name": "Python 3 (ipykernel)",
   "language": "python",
   "name": "python3"
  },
  "language_info": {
   "codemirror_mode": {
    "name": "ipython",
    "version": 3
   },
   "file_extension": ".py",
   "mimetype": "text/x-python",
   "name": "python",
   "nbconvert_exporter": "python",
   "pygments_lexer": "ipython3",
   "version": "3.9.13"
  }
 },
 "nbformat": 4,
 "nbformat_minor": 5
}
